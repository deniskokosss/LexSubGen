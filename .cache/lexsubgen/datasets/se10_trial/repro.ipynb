{
 "cells": [
  {
   "cell_type": "code",
   "execution_count": null,
   "outputs": [],
   "source": [
    "# GET FILES HERE http://www.dianamccarthy.co.uk/"
   ],
   "metadata": {
    "collapsed": false
   }
  },
  {
   "cell_type": "code",
   "execution_count": 4,
   "metadata": {
    "ExecuteTime": {
     "end_time": "2023-12-17T19:27:18.466644Z",
     "start_time": "2023-12-17T19:27:18.443616100Z"
    }
   },
   "outputs": [
    {
     "data": {
      "text/plain": "PosixPath('trial')"
     },
     "execution_count": 4,
     "metadata": {},
     "output_type": "execute_result"
    }
   ],
   "source": [
    "from pathlib import Path\n",
    "from nltk.tokenize import wordpunct_tokenize\n",
    "\n",
    "pth = Path('./trial')\n",
    "dst_pth = Path('.')\n",
    "dst_pth.mkdir(exist_ok=True)\n",
    "pth"
   ]
  },
  {
   "cell_type": "code",
   "execution_count": 10,
   "metadata": {
    "ExecuteTime": {
     "end_time": "2023-12-17T19:32:22.871619700Z",
     "start_time": "2023-12-17T19:32:22.813178Z"
    }
   },
   "outputs": [
    {
     "name": "stdout",
     "output_type": "stream",
     "text": [
      "<Element 'lexelt' at 0x7f92abcbbd10>\n",
      "<Element 'lexelt' at 0x7f92abcbd9a0>\n",
      "<Element 'lexelt' at 0x7f92abcbe4f0>\n",
      "<Element 'lexelt' at 0x7f92abcc0270>\n",
      "<Element 'lexelt' at 0x7f92abcc0f40>\n",
      "<Element 'lexelt' at 0x7f92abcd3950>\n",
      "<Element 'lexelt' at 0x7f92abcd3a90>\n",
      "<Element 'lexelt' at 0x7f92abcd74a0>\n",
      "<Element 'lexelt' at 0x7f92abcd75e0>\n",
      "<Element 'lexelt' at 0x7f92abcda090>\n",
      "<Element 'lexelt' at 0x7f92abcdab80>\n",
      "<Element 'lexelt' at 0x7f92abcdb6d0>\n",
      "<Element 'lexelt' at 0x7f92abce1310>\n",
      "<Element 'lexelt' at 0x7f92abce1ea0>\n",
      "<Element 'lexelt' at 0x7f92abce69a0>\n",
      "<Element 'lexelt' at 0x7f92abceb540>\n",
      "<Element 'lexelt' at 0x7f92abcebb80>\n",
      "<Element 'lexelt' at 0x7f92abcf0090>\n",
      "<Element 'lexelt' at 0x7f92abcf0c70>\n",
      "<Element 'lexelt' at 0x7f92abcf6720>\n",
      "<Element 'lexelt' at 0x7f92abcf6860>\n",
      "<Element 'lexelt' at 0x7f92abc7d310>\n",
      "<Element 'lexelt' at 0x7f92abc7de00>\n",
      "<Element 'lexelt' at 0x7f92abc839f0>\n",
      "<Element 'lexelt' at 0x7f92abc86450>\n",
      "<Element 'lexelt' at 0x7f92abc86ef0>\n",
      "<Element 'lexelt' at 0x7f92abc8da90>\n",
      "<Element 'lexelt' at 0x7f92abc936d0>\n",
      "<Element 'lexelt' at 0x7f92abc98220>\n",
      "<Element 'lexelt' at 0x7f92abc98db0>\n",
      "<Element 'lexelt' at 0x7f92abc9e950>\n",
      "<Element 'lexelt' at 0x7f92abca44f0>\n",
      "<Element 'lexelt' at 0x7f92abca4f90>\n",
      "<Element 'lexelt' at 0x7f92abcaaae0>\n"
     ]
    }
   ],
   "source": [
    "import xml.etree.ElementTree as ET\n",
    "with open(pth / 'clls.trial.data', 'r') as f:\n",
    "    fixed = f.read().replace('&#8220','').replace('&#8221','').replace('&#8226', '')\n",
    "\n",
    "with open(pth / 'clls.trial.data', 'w') as f:\n",
    "    f.write(fixed)\n",
    "\n",
    "\n",
    "\n",
    "mytree = ET.parse(pth / 'clls.trial.data')\n",
    "myroot = mytree.getroot()\n",
    "sents = []\n",
    "for x in myroot.findall('lexelt'):\n",
    "    print(x)\n",
    "    for y in x.findall('instance'):\n",
    "        for z in y.findall('context'):\n",
    "            if z.text:\n",
    "                left_context = \" \".join(wordpunct_tokenize(z.text.strip()))\n",
    "            else:\n",
    "                left_context = \"\"\n",
    "            sent = \" \".join(wordpunct_tokenize(\"\".join(list(z.itertext())))).strip()\n",
    "            sents.append(\n",
    "                \"{0}\\t{1}\\t{2}\\t{3}\\n\".format(\n",
    "                    x.attrib['item'], y.attrib['id'], \n",
    "                    1 + left_context.count(' '),\n",
    "                    sent\n",
    "                )\n",
    "            )\n",
    "with open(dst_pth / 'sentences', 'w') as f:\n",
    "    f.writelines(sents)\n"
   ]
  },
  {
   "cell_type": "code",
   "execution_count": 13,
   "metadata": {
    "ExecuteTime": {
     "end_time": "2023-12-17T19:32:36.920447100Z",
     "start_time": "2023-12-17T19:32:36.846736100Z"
    }
   },
   "outputs": [
    {
     "data": {
      "text/plain": "'bright.a 1 :: inteligente 4;brillante 3;listo 2\\n'"
     },
     "execution_count": 13,
     "metadata": {},
     "output_type": "execute_result"
    }
   ],
   "source": [
    "candidates = {}\n",
    "gold = []\n",
    "with open(pth / 'clls.trial.gold') as f:\n",
    "    data = f.readlines()\n",
    "    for s in data:\n",
    "        new_s = s.replace('; ', ';')[:-2] + '\\n'\n",
    "        all_substs = {' '.join(t.split(' ')[:-1])\n",
    "                      for t in new_s.split(' :: ')[1].split(';')}\n",
    "        if all_substs:\n",
    "            gold.append(new_s)\n",
    "            word = new_s[:new_s.find(' ')]\n",
    "            if word in candidates:\n",
    "                candidates[word] |= all_substs\n",
    "            else:\n",
    "                candidates[word] = all_substs\n",
    "\n",
    "with open(dst_pth / 'gold', 'w') as f:\n",
    "    f.writelines(gold)\n",
    "\n",
    "with open(dst_pth / 'candidates', 'w') as f:\n",
    "    for k,v in candidates.items():\n",
    "        f.write(f\"{k}::{';'.join(v)}\\n\")\n",
    "\n",
    "\n",
    "gold[0]"
   ]
  },
  {
   "cell_type": "code",
   "execution_count": 14,
   "metadata": {},
   "outputs": [
    {
     "data": {
      "text/plain": [
       "('aisé.a',\n",
       " {'accessible',\n",
       "  'bourgeois',\n",
       "  'commode',\n",
       "  'confortable',\n",
       "  'direct',\n",
       "  'dynamique',\n",
       "  'facile',\n",
       "  'facilité',\n",
       "  'faisable',\n",
       "  'favorisé',\n",
       "  'fluide',\n",
       "  'fortuné',\n",
       "  'huppé',\n",
       "  'immédiat',\n",
       "  'nanti',\n",
       "  'possible',\n",
       "  'pratique',\n",
       "  'privilégié',\n",
       "  'propice',\n",
       "  'prospère',\n",
       "  'rapide',\n",
       "  'riche',\n",
       "  'résidentiel',\n",
       "  'simple',\n",
       "  'supérieur',\n",
       "  'élargi',\n",
       "  'étendu',\n",
       "  'évident'})"
      ]
     },
     "execution_count": 14,
     "metadata": {},
     "output_type": "execute_result"
    }
   ],
   "source": [
    "list(candidates)[1], list(candidates.values())[1]"
   ]
  },
  {
   "cell_type": "code",
   "execution_count": null,
   "metadata": {},
   "outputs": [],
   "source": []
  }
 ],
 "metadata": {
  "kernelspec": {
   "display_name": "base",
   "language": "python",
   "name": "python3"
  },
  "language_info": {
   "codemirror_mode": {
    "name": "ipython",
    "version": 3
   },
   "file_extension": ".py",
   "mimetype": "text/x-python",
   "name": "python",
   "nbconvert_exporter": "python",
   "pygments_lexer": "ipython3",
   "version": "3.9.7"
  },
  "orig_nbformat": 4
 },
 "nbformat": 4,
 "nbformat_minor": 2
}
