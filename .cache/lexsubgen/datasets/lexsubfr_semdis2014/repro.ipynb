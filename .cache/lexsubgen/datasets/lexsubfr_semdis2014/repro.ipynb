{
 "cells": [
  {
   "cell_type": "code",
   "execution_count": null,
   "outputs": [],
   "source": [
    "# GET FILES HERE http://redac.univ-tlse2.fr/datasets/semdis-gold/lexicalsubstitution/"
   ],
   "metadata": {
    "collapsed": false
   }
  },
  {
   "cell_type": "code",
   "execution_count": 1,
   "metadata": {},
   "outputs": [
    {
     "data": {
      "text/plain": [
       "WindowsPath('../test')"
      ]
     },
     "execution_count": 1,
     "metadata": {},
     "output_type": "execute_result"
    }
   ],
   "source": [
    "from pathlib import Path\n",
    "from nltk.tokenize import wordpunct_tokenize\n",
    "\n",
    "pth = Path('../test')\n",
    "dst_pth = Path('.')\n",
    "dst_pth.mkdir(exist_ok=True)\n",
    "pth"
   ]
  },
  {
   "cell_type": "code",
   "execution_count": 9,
   "metadata": {},
   "outputs": [],
   "source": [
    "import xml.etree.ElementTree as ET\n",
    "mytree = ET.parse(pth / 'lexsubfr_semdis2014_test.xml')\n",
    "myroot = mytree.getroot()\n",
    "sents = []\n",
    "for x in myroot.findall('lexelt'):\n",
    "    for y in x.findall('instance'):\n",
    "        for z in y.findall('context'):\n",
    "            if z.text:\n",
    "                left_context = \" \".join(wordpunct_tokenize(z.text.strip()))\n",
    "            else:\n",
    "                left_context = \"\"\n",
    "            sent = \" \".join(wordpunct_tokenize(\"\".join(list(z.itertext())))).strip()\n",
    "            sents.append(\n",
    "                \"{0}\\t{1}\\t{2}\\t{3}\\n\".format(\n",
    "                    x.attrib['item'], y.attrib['id'], \n",
    "                    1 + left_context.count(' '),\n",
    "                    sent\n",
    "                )\n",
    "            )\n",
    "with open(dst_pth / 'sentences', 'w') as f:\n",
    "    f.writelines(sents)\n"
   ]
  },
  {
   "cell_type": "code",
   "execution_count": 12,
   "metadata": {},
   "outputs": [
    {
     "data": {
      "text/plain": [
       "'arrêter.v 1 ::  interpeller 4;appréhender 2;emprisonner 2;faire prisonnier 1;enfermer 1;stopper 1;attraper 1;capturer 1;immobiliser 1\\n'"
      ]
     },
     "execution_count": 12,
     "metadata": {},
     "output_type": "execute_result"
    }
   ],
   "source": [
    "candidates = {}\n",
    "gold = []\n",
    "with open(pth / 'semdis2014_lexsub_gold1.txt') as f:\n",
    "    data = f.readlines()\n",
    "    for s in data:\n",
    "        new_s = s.replace('; ', ';')[:-2] + '\\n'\n",
    "        all_substs = {' '.join(t.split(' ')[:-1])\n",
    "                      for t in new_s.split(' ::  ')[1].split(';')}\n",
    "        if all_substs:\n",
    "            gold.append(new_s)\n",
    "            word = new_s[:new_s.find(' ')]\n",
    "            if word in candidates:\n",
    "                candidates[word] |= all_substs\n",
    "            else:\n",
    "                candidates[word] = all_substs\n",
    "\n",
    "with open(dst_pth / 'gold', 'w') as f:\n",
    "    f.writelines(gold)\n",
    "\n",
    "with open(dst_pth / 'candidates', 'w') as f:\n",
    "    for k,v in candidates.items():\n",
    "        f.write(f\"{k}::{';'.join(v)}\\n\")\n",
    "\n",
    "\n",
    "gold[0]"
   ]
  },
  {
   "cell_type": "code",
   "execution_count": 14,
   "metadata": {},
   "outputs": [
    {
     "data": {
      "text/plain": [
       "('aisé.a',\n",
       " {'accessible',\n",
       "  'bourgeois',\n",
       "  'commode',\n",
       "  'confortable',\n",
       "  'direct',\n",
       "  'dynamique',\n",
       "  'facile',\n",
       "  'facilité',\n",
       "  'faisable',\n",
       "  'favorisé',\n",
       "  'fluide',\n",
       "  'fortuné',\n",
       "  'huppé',\n",
       "  'immédiat',\n",
       "  'nanti',\n",
       "  'possible',\n",
       "  'pratique',\n",
       "  'privilégié',\n",
       "  'propice',\n",
       "  'prospère',\n",
       "  'rapide',\n",
       "  'riche',\n",
       "  'résidentiel',\n",
       "  'simple',\n",
       "  'supérieur',\n",
       "  'élargi',\n",
       "  'étendu',\n",
       "  'évident'})"
      ]
     },
     "execution_count": 14,
     "metadata": {},
     "output_type": "execute_result"
    }
   ],
   "source": [
    "list(candidates)[1], list(candidates.values())[1]"
   ]
  },
  {
   "cell_type": "code",
   "execution_count": null,
   "metadata": {},
   "outputs": [],
   "source": []
  }
 ],
 "metadata": {
  "kernelspec": {
   "display_name": "base",
   "language": "python",
   "name": "python3"
  },
  "language_info": {
   "codemirror_mode": {
    "name": "ipython",
    "version": 3
   },
   "file_extension": ".py",
   "mimetype": "text/x-python",
   "name": "python",
   "nbconvert_exporter": "python",
   "pygments_lexer": "ipython3",
   "version": "3.9.7"
  },
  "orig_nbformat": 4
 },
 "nbformat": 4,
 "nbformat_minor": 2
}
