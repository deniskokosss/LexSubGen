{
 "cells": [
  {
   "cell_type": "code",
   "execution_count": null,
   "outputs": [],
   "source": [
    "# GET FILES HERE http://www.dianamccarthy.co.uk/"
   ],
   "metadata": {
    "collapsed": false
   }
  },
  {
   "cell_type": "code",
   "execution_count": 1,
   "metadata": {
    "ExecuteTime": {
     "end_time": "2023-12-17T19:25:40.743950800Z",
     "start_time": "2023-12-17T19:25:40.312864700Z"
    }
   },
   "outputs": [
    {
     "data": {
      "text/plain": "PosixPath('test')"
     },
     "execution_count": 1,
     "metadata": {},
     "output_type": "execute_result"
    }
   ],
   "source": [
    "from pathlib import Path\n",
    "from nltk.tokenize import wordpunct_tokenize\n",
    "\n",
    "pth = Path('./test')\n",
    "dst_pth = Path('.')\n",
    "dst_pth.mkdir(exist_ok=True)\n",
    "pth"
   ]
  },
  {
   "cell_type": "code",
   "execution_count": 2,
   "metadata": {
    "ExecuteTime": {
     "end_time": "2023-12-17T19:25:41.308851400Z",
     "start_time": "2023-12-17T19:25:41.223855100Z"
    }
   },
   "outputs": [
    {
     "name": "stdout",
     "output_type": "stream",
     "text": [
      "<Element 'lexelt' at 0x7f41c13f6630>\n",
      "<Element 'lexelt' at 0x7f41c13eb180>\n",
      "<Element 'lexelt' at 0x7f41c13ebef0>\n",
      "<Element 'lexelt' at 0x7f41c1353c20>\n",
      "<Element 'lexelt' at 0x7f41c135fc20>\n",
      "<Element 'lexelt' at 0x7f41c13667c0>\n",
      "<Element 'lexelt' at 0x7f41c135a2c0>\n",
      "<Element 'lexelt' at 0x7f41c135ae00>\n",
      "<Element 'lexelt' at 0x7f41c135c9f0>\n",
      "<Element 'lexelt' at 0x7f41c1349630>\n",
      "<Element 'lexelt' at 0x7f41c1359130>\n",
      "<Element 'lexelt' at 0x7f41c1359bd0>\n",
      "<Element 'lexelt' at 0x7f41c134a720>\n",
      "<Element 'lexelt' at 0x7f41c136c1d0>\n",
      "<Element 'lexelt' at 0x7f41c136cc20>\n",
      "<Element 'lexelt' at 0x7f41c1370a40>\n",
      "<Element 'lexelt' at 0x7f41c1375630>\n",
      "<Element 'lexelt' at 0x7f41c137a180>\n",
      "<Element 'lexelt' at 0x7f41c137ad10>\n",
      "<Element 'lexelt' at 0x7f41c137e9a0>\n",
      "<Element 'lexelt' at 0x7f41c1386540>\n",
      "<Element 'lexelt' at 0x7f41c130b180>\n",
      "<Element 'lexelt' at 0x7f41c130bd60>\n",
      "<Element 'lexelt' at 0x7f41c130f9a0>\n",
      "<Element 'lexelt' at 0x7f41c13144a0>\n",
      "<Element 'lexelt' at 0x7f41c1314ef0>\n",
      "<Element 'lexelt' at 0x7f41c131aa40>\n",
      "<Element 'lexelt' at 0x7f41c131f4a0>\n",
      "<Element 'lexelt' at 0x7f41c131fef0>\n",
      "<Element 'lexelt' at 0x7f41c1324b30>\n",
      "<Element 'lexelt' at 0x7f41c1329680>\n",
      "<Element 'lexelt' at 0x7f41c132d310>\n",
      "<Element 'lexelt' at 0x7f41c132de00>\n",
      "<Element 'lexelt' at 0x7f41c13329a0>\n",
      "<Element 'lexelt' at 0x7f41c13385e0>\n",
      "<Element 'lexelt' at 0x7f41c133e040>\n",
      "<Element 'lexelt' at 0x7f41c133eb80>\n",
      "<Element 'lexelt' at 0x7f41c1342680>\n",
      "<Element 'lexelt' at 0x7f41c12c9180>\n",
      "<Element 'lexelt' at 0x7f41c12c9c70>\n",
      "<Element 'lexelt' at 0x7f41c12cd860>\n",
      "<Element 'lexelt' at 0x7f41c12d14a0>\n",
      "<Element 'lexelt' at 0x7f41c12d1f90>\n",
      "<Element 'lexelt' at 0x7f41c12d6a40>\n",
      "<Element 'lexelt' at 0x7f41c12dd6d0>\n",
      "<Element 'lexelt' at 0x7f41c12e0220>\n",
      "<Element 'lexelt' at 0x7f41c12e0c20>\n",
      "<Element 'lexelt' at 0x7f41c12e6900>\n",
      "<Element 'lexelt' at 0x7f41c12ec400>\n",
      "<Element 'lexelt' at 0x7f41c12f1040>\n",
      "<Element 'lexelt' at 0x7f41c12f1b30>\n",
      "<Element 'lexelt' at 0x7f41c12f7630>\n",
      "<Element 'lexelt' at 0x7f41c1300220>\n",
      "<Element 'lexelt' at 0x7f41c1300c70>\n",
      "<Element 'lexelt' at 0x7f41c1305c20>\n",
      "<Element 'lexelt' at 0x7f41c128a770>\n",
      "<Element 'lexelt' at 0x7f41c128e400>\n",
      "<Element 'lexelt' at 0x7f41c128eef0>\n",
      "<Element 'lexelt' at 0x7f41c1293a90>\n",
      "<Element 'lexelt' at 0x7f41c1298540>\n",
      "<Element 'lexelt' at 0x7f41c129c0e0>\n",
      "<Element 'lexelt' at 0x7f41c129cb30>\n",
      "<Element 'lexelt' at 0x7f41c13fa450>\n",
      "<Element 'lexelt' at 0x7f41c13c1e00>\n",
      "<Element 'lexelt' at 0x7f41c139acc0>\n",
      "<Element 'lexelt' at 0x7f41c17f7d60>\n",
      "<Element 'lexelt' at 0x7f41c17f7360>\n",
      "<Element 'lexelt' at 0x7f41c12a2630>\n",
      "<Element 'lexelt' at 0x7f41c12ad180>\n",
      "<Element 'lexelt' at 0x7f41c12adcc0>\n",
      "<Element 'lexelt' at 0x7f41c12b3950>\n",
      "<Element 'lexelt' at 0x7f41c12b84a0>\n",
      "<Element 'lexelt' at 0x7f41c12b8ef0>\n",
      "<Element 'lexelt' at 0x7f41c12bca90>\n",
      "<Element 'lexelt' at 0x7f41c12c2630>\n",
      "<Element 'lexelt' at 0x7f41c1249180>\n",
      "<Element 'lexelt' at 0x7f41c1249d60>\n",
      "<Element 'lexelt' at 0x7f41c124ea40>\n",
      "<Element 'lexelt' at 0x7f41c1252590>\n",
      "<Element 'lexelt' at 0x7f41c1257040>\n",
      "<Element 'lexelt' at 0x7f41c1257ae0>\n",
      "<Element 'lexelt' at 0x7f41c125d540>\n",
      "<Element 'lexelt' at 0x7f41c1266040>\n",
      "<Element 'lexelt' at 0x7f41c1266ae0>\n",
      "<Element 'lexelt' at 0x7f41c126b540>\n",
      "<Element 'lexelt' at 0x7f41c126bf40>\n",
      "<Element 'lexelt' at 0x7f41c12729f0>\n",
      "<Element 'lexelt' at 0x7f41c12794f0>\n",
      "<Element 'lexelt' at 0x7f41c1279f40>\n",
      "<Element 'lexelt' at 0x7f41c127fa40>\n",
      "<Element 'lexelt' at 0x7f41c1285590>\n",
      "<Element 'lexelt' at 0x7f41c12090e0>\n",
      "<Element 'lexelt' at 0x7f41c1209c70>\n",
      "<Element 'lexelt' at 0x7f41c120e810>\n",
      "<Element 'lexelt' at 0x7f41c1213360>\n",
      "<Element 'lexelt' at 0x7f41c1213ea0>\n",
      "<Element 'lexelt' at 0x7f41c12199f0>\n",
      "<Element 'lexelt' at 0x7f41c121e5e0>\n",
      "<Element 'lexelt' at 0x7f41c1225130>\n",
      "<Element 'lexelt' at 0x7f41c1225c20>\n"
     ]
    }
   ],
   "source": [
    "import xml.etree.ElementTree as ET\n",
    "mytree = ET.parse(pth / 'clls.test.data')\n",
    "myroot = mytree.getroot()\n",
    "sents = []\n",
    "for x in myroot.findall('lexelt'):\n",
    "    print(x)\n",
    "    for y in x.findall('instance'):\n",
    "        for z in y.findall('context'):\n",
    "            if z.text:\n",
    "                left_context = \" \".join(wordpunct_tokenize(z.text.strip()))\n",
    "            else:\n",
    "                left_context = \"\"\n",
    "            sent = \" \".join(wordpunct_tokenize(\"\".join(list(z.itertext())))).strip()\n",
    "            sents.append(\n",
    "                \"{0}\\t{1}\\t{2}\\t{3}\\n\".format(\n",
    "                    x.attrib['item'], y.attrib['id'], \n",
    "                    1 + left_context.count(' '),\n",
    "                    sent\n",
    "                )\n",
    "            )\n",
    "with open(dst_pth / 'sentences', 'w') as f:\n",
    "    f.writelines(sents)\n"
   ]
  },
  {
   "cell_type": "code",
   "execution_count": 5,
   "metadata": {
    "ExecuteTime": {
     "end_time": "2023-12-17T19:26:36.801149900Z",
     "start_time": "2023-12-17T19:26:36.744452Z"
    }
   },
   "outputs": [
    {
     "data": {
      "text/plain": "'side.n 301 :: equipo 1;parte 1;lado 1\\n'"
     },
     "execution_count": 5,
     "metadata": {},
     "output_type": "execute_result"
    }
   ],
   "source": [
    "candidates = {}\n",
    "gold = []\n",
    "with open(pth / 'clls.test.gold') as f:\n",
    "    data = f.readlines()\n",
    "    for s in data:\n",
    "        new_s = s.replace('; ', ';')[:-2] + '\\n'\n",
    "        all_substs = {' '.join(t.split(' ')[:-1])\n",
    "                      for t in new_s.split(' :: ')[1].split(';')}\n",
    "        if all_substs:\n",
    "            gold.append(new_s)\n",
    "            word = new_s[:new_s.find(' ')]\n",
    "            if word in candidates:\n",
    "                candidates[word] |= all_substs\n",
    "            else:\n",
    "                candidates[word] = all_substs\n",
    "\n",
    "with open(dst_pth / 'gold', 'w') as f:\n",
    "    f.writelines(gold)\n",
    "\n",
    "with open(dst_pth / 'candidates', 'w') as f:\n",
    "    for k,v in candidates.items():\n",
    "        f.write(f\"{k}::{';'.join(v)}\\n\")\n",
    "\n",
    "\n",
    "gold[0]"
   ]
  },
  {
   "cell_type": "code",
   "execution_count": 14,
   "metadata": {},
   "outputs": [
    {
     "data": {
      "text/plain": [
       "('aisé.a',\n",
       " {'accessible',\n",
       "  'bourgeois',\n",
       "  'commode',\n",
       "  'confortable',\n",
       "  'direct',\n",
       "  'dynamique',\n",
       "  'facile',\n",
       "  'facilité',\n",
       "  'faisable',\n",
       "  'favorisé',\n",
       "  'fluide',\n",
       "  'fortuné',\n",
       "  'huppé',\n",
       "  'immédiat',\n",
       "  'nanti',\n",
       "  'possible',\n",
       "  'pratique',\n",
       "  'privilégié',\n",
       "  'propice',\n",
       "  'prospère',\n",
       "  'rapide',\n",
       "  'riche',\n",
       "  'résidentiel',\n",
       "  'simple',\n",
       "  'supérieur',\n",
       "  'élargi',\n",
       "  'étendu',\n",
       "  'évident'})"
      ]
     },
     "execution_count": 14,
     "metadata": {},
     "output_type": "execute_result"
    }
   ],
   "source": [
    "list(candidates)[1], list(candidates.values())[1]"
   ]
  },
  {
   "cell_type": "code",
   "execution_count": null,
   "metadata": {},
   "outputs": [],
   "source": []
  }
 ],
 "metadata": {
  "kernelspec": {
   "display_name": "base",
   "language": "python",
   "name": "python3"
  },
  "language_info": {
   "codemirror_mode": {
    "name": "ipython",
    "version": 3
   },
   "file_extension": ".py",
   "mimetype": "text/x-python",
   "name": "python",
   "nbconvert_exporter": "python",
   "pygments_lexer": "ipython3",
   "version": "3.9.7"
  },
  "orig_nbformat": 4
 },
 "nbformat": 4,
 "nbformat_minor": 2
}
